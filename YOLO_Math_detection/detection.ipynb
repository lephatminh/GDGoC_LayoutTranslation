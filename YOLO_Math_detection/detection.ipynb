{
 "cells": [
  {
   "cell_type": "code",
   "execution_count": 1,
   "id": "44a88622",
   "metadata": {},
   "outputs": [],
   "source": [
    "import os, glob, gc, shutil, yaml\n",
    "from IPython.display import clear_output\n",
    "from tqdm.notebook import tqdm\n",
    "import numpy as np\n",
    "import pandas as pd\n",
    "import matplotlib.pyplot as plt\n",
    "import cv2\n",
    "import torch\n",
    "from ultralytics import YOLO\n",
    "from pdf2image import convert_from_path\n",
    "import fitz  # PyMuPDF"
   ]
  },
  {
   "cell_type": "code",
   "execution_count": 2,
   "id": "6227545c",
   "metadata": {},
   "outputs": [],
   "source": [
    "IMAGE_SIZE = (2048, 1447)\n",
    "FONT = cv2.FONT_HERSHEY_SIMPLEX\n",
    "FONT_SCALE = 0.75\n",
    "FONT_THICKNESS = 2\n",
    "BORDER_THICKNESS = 2\n",
    "\n",
    "RANDOM_STATE = 42\n",
    "INPUT_SIZE = 1024\n",
    "N_EPOCHS = 15\n",
    "PATIENCE = 5\n",
    "BATCH_SIZE = 4\n",
    "CACHE_DATA = True\n",
    "DEVICES = 1"
   ]
  },
  {
   "cell_type": "code",
   "execution_count": 3,
   "id": "6316a0e2",
   "metadata": {},
   "outputs": [],
   "source": [
    "best_weights = \"best.pt\"\n",
    "best_model = YOLO(best_weights)"
   ]
  },
  {
   "cell_type": "code",
   "execution_count": 4,
   "id": "329e7739",
   "metadata": {},
   "outputs": [],
   "source": [
    "def pdf_to_jpg_with_sizes(pdf_path, output_folder, dpi=300):\n",
    "    if not os.path.exists(output_folder):\n",
    "        os.makedirs(output_folder)\n",
    "\n",
    "    # Convert PDF to images\n",
    "    images = convert_from_path(pdf_path, dpi=dpi)\n",
    "\n",
    "    # Get PDF page sizes using PyMuPDF\n",
    "    pdf_doc = fitz.open(pdf_path)\n",
    "\n",
    "    # Use first page for size.txt (assuming all pages same size)\n",
    "    first_image = images[0]\n",
    "    first_page = pdf_doc[0]\n",
    "\n",
    "    # Get sizes\n",
    "    jpg_size = first_image.size  # (width, height) in pixels\n",
    "    pdf_size = (first_page.rect.width, first_page.rect.height)  # (width, height) in points\n",
    "\n",
    "    # Write to size.txt\n",
    "    size_txt_path = os.path.join(output_folder, 'size.txt')\n",
    "    with open(size_txt_path, 'w') as f:\n",
    "        f.write(f\"{jpg_size}\\n\")\n",
    "        f.write(f\"{pdf_size}\\n\")\n",
    "    print(f\"Saved size.txt at {size_txt_path}\")\n",
    "\n",
    "    # Save JPGs and print sizes\n",
    "    for i, (image, page) in enumerate(zip(images, pdf_doc)):\n",
    "        jpg_path = os.path.join(output_folder, f'{output_folder}.jpg')\n",
    "        image.save(jpg_path, 'JPEG')\n",
    "\n",
    "        print(f'Page {i+1}: PDF size = {pdf_size[0]} x {pdf_size[1]} pt, JPG size = {jpg_size[0]} x {jpg_size[1]} px')\n",
    "        print(f'Saved: {jpg_path}')"
   ]
  },
  {
   "cell_type": "code",
   "execution_count": 5,
   "id": "80a2b3f8",
   "metadata": {},
   "outputs": [],
   "source": [
    "def crop_and_normalize_all(root_folder):\n",
    "    \"\"\"\n",
    "    Process all .jpg and .txt pairs in root folder, crop boxes, rename txt files,\n",
    "    and save normalized data with float coordinates.\n",
    "\n",
    "    Args:\n",
    "        root_folder (str): Root folder containing .jpg and .txt files.\n",
    "    \"\"\"\n",
    "    # Create images folder\n",
    "    images_folder = os.path.join(root_folder, 'images')\n",
    "    os.makedirs(images_folder, exist_ok=True)\n",
    "\n",
    "    # Find all jpg files\n",
    "    jpg_files = glob.glob(os.path.join(root_folder, '*.jpg'))\n",
    "\n",
    "    for jpg_path in jpg_files:\n",
    "        base_name = os.path.splitext(os.path.basename(jpg_path))[0]\n",
    "        txt_path = os.path.join(root_folder, f'{base_name}.txt')\n",
    "\n",
    "        if not os.path.exists(txt_path):\n",
    "            print(f'Skipping {base_name}: no matching txt file.')\n",
    "            continue\n",
    "\n",
    "        # Load image\n",
    "        image = cv2.imread(jpg_path)\n",
    "        h_img, w_img = image.shape[:2]\n",
    "\n",
    "        # Read txt file\n",
    "        with open(txt_path, 'r') as f:\n",
    "            lines = f.readlines()\n",
    "\n",
    "        normalized_lines = []\n",
    "\n",
    "        for i, line in enumerate(lines):\n",
    "            parts = line.strip().split()\n",
    "            if len(parts) != 5:\n",
    "                continue  # skip bad lines\n",
    "\n",
    "            box_id = i + 1\n",
    "            x1, y1, x2, y2 = map(float, parts[1:])\n",
    "\n",
    "            # Apply ±5 adjustment\n",
    "            y1_adj = y1 - 5\n",
    "            y2_adj = y2 + 5\n",
    "\n",
    "            # Clamp coordinates within image boundaries\n",
    "            x1_clamped = max(0.0, x1)\n",
    "            y1_clamped = max(0.0, y1_adj)\n",
    "            x2_clamped = min(float(w_img), x2)\n",
    "            y2_clamped = min(float(h_img), y2_adj)\n",
    "\n",
    "            # Crop image using int for pixel slicing\n",
    "            crop = image[int(y1_clamped):int(y2_clamped), int(x1_clamped):int(x2_clamped)]\n",
    "\n",
    "            # Save as images/id.jpg (only id, no prefix)\n",
    "            crop_filename = f'{box_id}.jpg'\n",
    "            crop_path = os.path.join(images_folder, crop_filename)\n",
    "            cv2.imwrite(crop_path, crop)\n",
    "            print(f'Saved: {crop_path}')\n",
    "\n",
    "            # Save normalized line with float precision (4 decimal places)\n",
    "            normalized_line = f\"{box_id} {x1_clamped:.4f} {y1_clamped:.4f} {x2_clamped:.4f} {y2_clamped:.4f}\"\n",
    "            normalized_lines.append(normalized_line)\n",
    "\n",
    "        # # Rename original txt → conf.txt (no prefix)\n",
    "        # conf_txt_path = os.path.join(root_folder, 'conf.txt')\n",
    "        # os.rename(txt_path, conf_txt_path)\n",
    "        # print(f'Renamed {txt_path} → {conf_txt_path}')\n",
    "\n",
    "        # Save normalized txt as index.txt (no prefix)\n",
    "        index_txt_path = os.path.join(root_folder, 'index.txt')\n",
    "        with open(index_txt_path, 'w') as f:\n",
    "            for line in normalized_lines:\n",
    "                f.write(line + '\\n')\n",
    "\n",
    "        print(f'Index txt saved at: {index_txt_path}')"
   ]
  },
  {
   "cell_type": "code",
   "execution_count": 6,
   "id": "03206222",
   "metadata": {},
   "outputs": [],
   "source": [
    "name_root = 'Math_notation'"
   ]
  },
  {
   "cell_type": "code",
   "execution_count": 7,
   "id": "f16bf8c4",
   "metadata": {},
   "outputs": [
    {
     "name": "stdout",
     "output_type": "stream",
     "text": [
      "Saved size.txt at Math_notation\\size.txt\n",
      "Page 1: PDF size = 612.0 x 792.0 pt, JPG size = 2550 x 3300 px\n",
      "Saved: Math_notation\\Math_notation.jpg\n"
     ]
    }
   ],
   "source": [
    "pdf_to_jpg_with_sizes(name_root + '.pdf', name_root)"
   ]
  },
  {
   "cell_type": "code",
   "execution_count": 8,
   "id": "d5c6474b",
   "metadata": {},
   "outputs": [],
   "source": [
    "PREDICTIONS_ROOT = './predictions'"
   ]
  },
  {
   "cell_type": "code",
   "execution_count": 9,
   "id": "dfb43a36",
   "metadata": {},
   "outputs": [],
   "source": [
    "with torch.no_grad():\n",
    "    predictions = best_model.predict(\n",
    "        source= './' + name_root,\n",
    "        conf=0.65,\n",
    "        iou=0.75,\n",
    "        stream=True\n",
    "    )"
   ]
  },
  {
   "cell_type": "code",
   "execution_count": 10,
   "id": "ae1841a2",
   "metadata": {},
   "outputs": [],
   "source": [
    "test_images = []\n",
    "\n",
    "for prediction in predictions:\n",
    "    if len(prediction.boxes.xyxy):\n",
    "        name = prediction.path.split(\"/\")[-1].split(\".\")[0]\n",
    "        boxes = prediction.boxes.xyxy.cpu().numpy()\n",
    "        scores = prediction.boxes.conf.cpu().numpy()\n",
    "        \n",
    "        test_images += [name]\n",
    "        label_path = os.path.join(PREDICTIONS_ROOT, name + \".txt\")\n",
    "        \n",
    "        with open(label_path, \"w+\") as f:\n",
    "            for score, box in zip(scores, boxes):\n",
    "                text = f\"{score:0.4f} {' '.join(box.astype(str))}\"\n",
    "                f.write(text)\n",
    "                f.write(\"\\n\")\n",
    "\n",
    "clear_output()"
   ]
  },
  {
   "cell_type": "code",
   "execution_count": 11,
   "id": "1cce1059",
   "metadata": {},
   "outputs": [
    {
     "name": "stdout",
     "output_type": "stream",
     "text": [
      "Saved: Math_notation\\images\\1.jpg\n",
      "Saved: Math_notation\\images\\2.jpg\n",
      "Saved: Math_notation\\images\\3.jpg\n",
      "Saved: Math_notation\\images\\4.jpg\n",
      "Saved: Math_notation\\images\\5.jpg\n",
      "Saved: Math_notation\\images\\6.jpg\n",
      "Saved: Math_notation\\images\\7.jpg\n",
      "Saved: Math_notation\\images\\8.jpg\n",
      "Saved: Math_notation\\images\\9.jpg\n",
      "Saved: Math_notation\\images\\10.jpg\n",
      "Saved: Math_notation\\images\\11.jpg\n",
      "Index txt saved at: Math_notation\\index.txt\n"
     ]
    }
   ],
   "source": [
    "crop_and_normalize_all(name_root)"
   ]
  }
 ],
 "metadata": {
  "kernelspec": {
   "display_name": "visualize",
   "language": "python",
   "name": "python3"
  },
  "language_info": {
   "codemirror_mode": {
    "name": "ipython",
    "version": 3
   },
   "file_extension": ".py",
   "mimetype": "text/x-python",
   "name": "python",
   "nbconvert_exporter": "python",
   "pygments_lexer": "ipython3",
   "version": "3.12.3"
  }
 },
 "nbformat": 4,
 "nbformat_minor": 5
}
