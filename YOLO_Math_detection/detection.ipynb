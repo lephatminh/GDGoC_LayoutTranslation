{
 "cells": [
  {
   "cell_type": "code",
   "execution_count": 1,
   "id": "44a88622",
   "metadata": {},
   "outputs": [
    {
     "name": "stdout",
     "output_type": "stream",
     "text": [
      "Creating new Ultralytics Settings v0.0.6 file  \n",
      "View Ultralytics Settings with 'yolo settings' or at 'C:\\Users\\Admin\\AppData\\Roaming\\Ultralytics\\settings.json'\n",
      "Update Settings with 'yolo settings key=value', i.e. 'yolo settings runs_dir=path/to/dir'. For help see https://docs.ultralytics.com/quickstart/#ultralytics-settings.\n"
     ]
    }
   ],
   "source": [
    "import os, glob, gc, shutil, yaml\n",
    "from IPython.display import clear_output\n",
    "from tqdm.notebook import tqdm\n",
    "import numpy as np\n",
    "import pandas as pd\n",
    "import matplotlib.pyplot as plt\n",
    "import cv2\n",
    "import torch\n",
    "from ultralytics import YOLO\n",
    "from pdf2image import convert_from_path\n",
    "import fitz  # PyMuPDF\n",
    "import os"
   ]
  },
  {
   "cell_type": "code",
   "execution_count": 2,
   "id": "6227545c",
   "metadata": {},
   "outputs": [],
   "source": [
    "IMAGE_SIZE = (2048, 1447)\n",
    "FONT = cv2.FONT_HERSHEY_SIMPLEX\n",
    "FONT_SCALE = 0.75\n",
    "FONT_THICKNESS = 2\n",
    "BORDER_THICKNESS = 2\n",
    "\n",
    "RANDOM_STATE = 42\n",
    "INPUT_SIZE = 1024\n",
    "N_EPOCHS = 15\n",
    "PATIENCE = 5\n",
    "BATCH_SIZE = 4\n",
    "CACHE_DATA = True\n",
    "DEVICES = 1"
   ]
  },
  {
   "cell_type": "code",
   "execution_count": 3,
   "id": "6316a0e2",
   "metadata": {},
   "outputs": [],
   "source": [
    "best_weights = \"best.pt\"\n",
    "best_model = YOLO(best_weights)"
   ]
  },
  {
   "cell_type": "code",
   "execution_count": 12,
   "id": "329e7739",
   "metadata": {},
   "outputs": [],
   "source": [
    "def pdf_to_jpg_with_sizes(pdf_path, output_folder, dpi=300):\n",
    "    if not os.path.exists(output_folder):\n",
    "        os.makedirs(output_folder)\n",
    "\n",
    "    # Convert PDF to images\n",
    "    images = convert_from_path(pdf_path, dpi=dpi)\n",
    "\n",
    "    # Get PDF page sizes using PyMuPDF\n",
    "    pdf_doc = fitz.open(pdf_path)\n",
    "\n",
    "    # Use first page for size.txt (assuming all pages same size)\n",
    "    first_image = images[0]\n",
    "    first_page = pdf_doc[0]\n",
    "\n",
    "    # Get sizes\n",
    "    jpg_size = first_image.size  # (width, height) in pixels\n",
    "    pdf_size = (first_page.rect.width, first_page.rect.height)  # (width, height) in points\n",
    "\n",
    "    # Write to size.txt\n",
    "    size_txt_path = os.path.join(output_folder, 'size.txt')\n",
    "    with open(size_txt_path, 'w') as f:\n",
    "        f.write(f\"{jpg_size}\\n\")\n",
    "        f.write(f\"{pdf_size}\\n\")\n",
    "    print(f\"Saved size.txt at {size_txt_path}\")\n",
    "\n",
    "    # Save JPGs and print sizes\n",
    "    for i, (image, page) in enumerate(zip(images, pdf_doc)):\n",
    "        jpg_path = os.path.join(output_folder, f'{output_folder}.jpg')\n",
    "        image.save(jpg_path, 'JPEG')\n",
    "\n",
    "        print(f'Page {i+1}: PDF size = {pdf_size[0]} x {pdf_size[1]} pt, JPG size = {jpg_size[0]} x {jpg_size[1]} px')\n",
    "        print(f'Saved: {jpg_path}')"
   ]
  },
  {
   "cell_type": "code",
   "execution_count": 5,
   "id": "5b48185a",
   "metadata": {},
   "outputs": [],
   "source": [
    "def scale_box_to_pdf(jpg_box, jpg_size, pdf_size):\n",
    "    x1, y1, x2, y2 = jpg_box\n",
    "    jpg_width, jpg_height = jpg_size\n",
    "    pdf_width, pdf_height = pdf_size\n",
    "\n",
    "    scale_x = pdf_width / jpg_width\n",
    "    scale_y = pdf_height / jpg_height\n",
    "\n",
    "    scaled_x1 = x1 * scale_x\n",
    "    scaled_y1 = y1 * scale_y\n",
    "    scaled_x2 = x2 * scale_x\n",
    "    scaled_y2 = y2 * scale_y\n",
    "\n",
    "    return [scaled_x1, scaled_y1, scaled_x2, scaled_y2]"
   ]
  },
  {
   "cell_type": "code",
   "execution_count": 8,
   "id": "bbff09a4",
   "metadata": {},
   "outputs": [],
   "source": [
    "def generate_pdf_coordinates(image_folder):\n",
    "    \"\"\"\n",
    "    Generate pdf_coor.txt with PDF-scaled coordinates from index.txt and size.txt.\n",
    "\n",
    "    Args:\n",
    "        image_folder (str): Folder containing index.txt, size.txt, and images.\n",
    "    \"\"\"\n",
    "    import ast\n",
    "\n",
    "    # Load size.txt\n",
    "    size_path = os.path.join(image_folder, 'size.txt')\n",
    "    with open(size_path, 'r') as f:\n",
    "        jpg_size = ast.literal_eval(f.readline().strip())\n",
    "        pdf_size = ast.literal_eval(f.readline().strip())\n",
    "\n",
    "    # Load index.txt\n",
    "    index_path = os.path.join(image_folder, 'index.txt')\n",
    "    with open(index_path, 'r') as f:\n",
    "        lines = f.readlines()\n",
    "\n",
    "    pdf_coordinates = []\n",
    "\n",
    "    for line in lines:\n",
    "        parts = line.strip().split()\n",
    "        if len(parts) != 5:\n",
    "            continue  # skip bad lines\n",
    "\n",
    "        box_id, x1, y1, x2, y2 = parts\n",
    "        x1, y1, x2, y2 = map(float, [x1, y1, x2, y2])\n",
    "\n",
    "        # Convert coordinates to PDF space\n",
    "        scaled_box = scale_box_to_pdf([x1, y1, x2, y2], jpg_size, pdf_size)\n",
    "\n",
    "        # Format line for output\n",
    "        pdf_line = f\"{box_id} {scaled_box[0]:.4f} {scaled_box[1]:.4f} {scaled_box[2]:.4f} {scaled_box[3]:.4f}\"\n",
    "        pdf_coordinates.append(pdf_line)\n",
    "\n",
    "    # Save to pdf_coor.txt\n",
    "    pdf_coor_path = os.path.join(image_folder, 'pdf_coor.txt')\n",
    "    with open(pdf_coor_path, 'w') as f:\n",
    "        for line in pdf_coordinates:\n",
    "            f.write(line + '\\n')\n",
    "\n",
    "    print(f\"PDF coordinates saved at: {pdf_coor_path}\")"
   ]
  },
  {
   "cell_type": "code",
   "execution_count": 9,
   "id": "80a2b3f8",
   "metadata": {},
   "outputs": [],
   "source": [
    "def crop_and_normalize_all(root_folder):\n",
    "    \"\"\"\n",
    "    Process all .jpg and .txt pairs in root folder, crop boxes, rename txt files,\n",
    "    and save normalized data with float coordinates.\n",
    "\n",
    "    Args:\n",
    "        root_folder (str): Root folder containing .jpg and .txt files.\n",
    "    \"\"\"\n",
    "    # Create images folder\n",
    "    images_folder = os.path.join(root_folder, 'images')\n",
    "    os.makedirs(images_folder, exist_ok=True)\n",
    "\n",
    "    # Find all jpg files\n",
    "    jpg_files = glob.glob(os.path.join(root_folder, '*.jpg'))\n",
    "\n",
    "    for jpg_path in jpg_files:\n",
    "        base_name = os.path.splitext(os.path.basename(jpg_path))[0]\n",
    "        txt_path = os.path.join(root_folder, f'{base_name}.txt')\n",
    "\n",
    "        if not os.path.exists(txt_path):\n",
    "            print(f'Skipping {base_name}: no matching txt file.')\n",
    "            continue\n",
    "\n",
    "        # Load image\n",
    "        image = cv2.imread(jpg_path)\n",
    "        h_img, w_img = image.shape[:2]\n",
    "\n",
    "        # Read txt file\n",
    "        with open(txt_path, 'r') as f:\n",
    "            lines = f.readlines()\n",
    "\n",
    "        normalized_lines = []\n",
    "\n",
    "        for i, line in enumerate(lines):\n",
    "            parts = line.strip().split()\n",
    "            if len(parts) != 5:\n",
    "                continue  # skip bad lines\n",
    "\n",
    "            box_id = i + 1\n",
    "            x1, y1, x2, y2 = map(float, parts[1:])\n",
    "\n",
    "            # Apply ±5 adjustment\n",
    "            y1_adj = y1 - 5\n",
    "            y2_adj = y2 + 5\n",
    "\n",
    "            # Clamp coordinates within image boundaries\n",
    "            x1_clamped = max(0.0, x1)\n",
    "            y1_clamped = max(0.0, y1_adj)\n",
    "            x2_clamped = min(float(w_img), x2)\n",
    "            y2_clamped = min(float(h_img), y2_adj)\n",
    "\n",
    "            # Crop image using int for pixel slicing\n",
    "            crop = image[int(y1_clamped):int(y2_clamped), int(x1_clamped):int(x2_clamped)]\n",
    "\n",
    "            # Save as images/id.jpg (only id, no prefix)\n",
    "            crop_filename = f'{box_id}.jpg'\n",
    "            crop_path = os.path.join(images_folder, crop_filename)\n",
    "            cv2.imwrite(crop_path, crop)\n",
    "            print(f'Saved: {crop_path}')\n",
    "\n",
    "            # Save normalized line with float precision (4 decimal places)\n",
    "            normalized_line = f\"{box_id} {x1_clamped:.4f} {y1_clamped:.4f} {x2_clamped:.4f} {y2_clamped:.4f}\"\n",
    "            normalized_lines.append(normalized_line)\n",
    "\n",
    "        # # Rename original txt → conf.txt (no prefix)\n",
    "        # conf_txt_path = os.path.join(root_folder, 'conf.txt')\n",
    "        # os.rename(txt_path, conf_txt_path)\n",
    "        # print(f'Renamed {txt_path} → {conf_txt_path}')\n",
    "\n",
    "        # Save normalized txt as index.txt (no prefix)\n",
    "        index_txt_path = os.path.join(root_folder, 'index.txt')\n",
    "        with open(index_txt_path, 'w') as f:\n",
    "            for line in normalized_lines:\n",
    "                f.write(line + '\\n')\n",
    "\n",
    "        generate_pdf_coordinates(root_folder)\n",
    "\n",
    "        print(f'Index txt saved at: {index_txt_path}')"
   ]
  },
  {
   "cell_type": "code",
   "execution_count": 10,
   "id": "03206222",
   "metadata": {},
   "outputs": [],
   "source": [
    "name_root = 'Math_notation'"
   ]
  },
  {
   "cell_type": "code",
   "execution_count": 14,
   "id": "f16bf8c4",
   "metadata": {},
   "outputs": [
    {
     "ename": "PDFInfoNotInstalledError",
     "evalue": "Unable to get page count. Is poppler installed and in PATH?",
     "output_type": "error",
     "traceback": [
      "\u001b[1;31m---------------------------------------------------------------------------\u001b[0m",
      "\u001b[1;31mFileNotFoundError\u001b[0m                         Traceback (most recent call last)",
      "File \u001b[1;32mc:\\Users\\Admin\\miniconda3\\envs\\gemini_env\\lib\\site-packages\\pdf2image\\pdf2image.py:581\u001b[0m, in \u001b[0;36mpdfinfo_from_path\u001b[1;34m(pdf_path, userpw, ownerpw, poppler_path, rawdates, timeout, first_page, last_page)\u001b[0m\n\u001b[0;32m    580\u001b[0m     env[\u001b[38;5;124m\"\u001b[39m\u001b[38;5;124mLD_LIBRARY_PATH\u001b[39m\u001b[38;5;124m\"\u001b[39m] \u001b[38;5;241m=\u001b[39m poppler_path \u001b[38;5;241m+\u001b[39m \u001b[38;5;124m\"\u001b[39m\u001b[38;5;124m:\u001b[39m\u001b[38;5;124m\"\u001b[39m \u001b[38;5;241m+\u001b[39m env\u001b[38;5;241m.\u001b[39mget(\u001b[38;5;124m\"\u001b[39m\u001b[38;5;124mLD_LIBRARY_PATH\u001b[39m\u001b[38;5;124m\"\u001b[39m, \u001b[38;5;124m\"\u001b[39m\u001b[38;5;124m\"\u001b[39m)\n\u001b[1;32m--> 581\u001b[0m proc \u001b[38;5;241m=\u001b[39m \u001b[43mPopen\u001b[49m\u001b[43m(\u001b[49m\u001b[43mcommand\u001b[49m\u001b[43m,\u001b[49m\u001b[43m \u001b[49m\u001b[43menv\u001b[49m\u001b[38;5;241;43m=\u001b[39;49m\u001b[43menv\u001b[49m\u001b[43m,\u001b[49m\u001b[43m \u001b[49m\u001b[43mstdout\u001b[49m\u001b[38;5;241;43m=\u001b[39;49m\u001b[43mPIPE\u001b[49m\u001b[43m,\u001b[49m\u001b[43m \u001b[49m\u001b[43mstderr\u001b[49m\u001b[38;5;241;43m=\u001b[39;49m\u001b[43mPIPE\u001b[49m\u001b[43m)\u001b[49m\n\u001b[0;32m    583\u001b[0m \u001b[38;5;28;01mtry\u001b[39;00m:\n",
      "File \u001b[1;32mc:\\Users\\Admin\\miniconda3\\envs\\gemini_env\\lib\\subprocess.py:971\u001b[0m, in \u001b[0;36mPopen.__init__\u001b[1;34m(self, args, bufsize, executable, stdin, stdout, stderr, preexec_fn, close_fds, shell, cwd, env, universal_newlines, startupinfo, creationflags, restore_signals, start_new_session, pass_fds, user, group, extra_groups, encoding, errors, text, umask, pipesize)\u001b[0m\n\u001b[0;32m    968\u001b[0m             \u001b[38;5;28mself\u001b[39m\u001b[38;5;241m.\u001b[39mstderr \u001b[38;5;241m=\u001b[39m io\u001b[38;5;241m.\u001b[39mTextIOWrapper(\u001b[38;5;28mself\u001b[39m\u001b[38;5;241m.\u001b[39mstderr,\n\u001b[0;32m    969\u001b[0m                     encoding\u001b[38;5;241m=\u001b[39mencoding, errors\u001b[38;5;241m=\u001b[39merrors)\n\u001b[1;32m--> 971\u001b[0m     \u001b[38;5;28;43mself\u001b[39;49m\u001b[38;5;241;43m.\u001b[39;49m\u001b[43m_execute_child\u001b[49m\u001b[43m(\u001b[49m\u001b[43margs\u001b[49m\u001b[43m,\u001b[49m\u001b[43m \u001b[49m\u001b[43mexecutable\u001b[49m\u001b[43m,\u001b[49m\u001b[43m \u001b[49m\u001b[43mpreexec_fn\u001b[49m\u001b[43m,\u001b[49m\u001b[43m \u001b[49m\u001b[43mclose_fds\u001b[49m\u001b[43m,\u001b[49m\n\u001b[0;32m    972\u001b[0m \u001b[43m                        \u001b[49m\u001b[43mpass_fds\u001b[49m\u001b[43m,\u001b[49m\u001b[43m \u001b[49m\u001b[43mcwd\u001b[49m\u001b[43m,\u001b[49m\u001b[43m \u001b[49m\u001b[43menv\u001b[49m\u001b[43m,\u001b[49m\n\u001b[0;32m    973\u001b[0m \u001b[43m                        \u001b[49m\u001b[43mstartupinfo\u001b[49m\u001b[43m,\u001b[49m\u001b[43m \u001b[49m\u001b[43mcreationflags\u001b[49m\u001b[43m,\u001b[49m\u001b[43m \u001b[49m\u001b[43mshell\u001b[49m\u001b[43m,\u001b[49m\n\u001b[0;32m    974\u001b[0m \u001b[43m                        \u001b[49m\u001b[43mp2cread\u001b[49m\u001b[43m,\u001b[49m\u001b[43m \u001b[49m\u001b[43mp2cwrite\u001b[49m\u001b[43m,\u001b[49m\n\u001b[0;32m    975\u001b[0m \u001b[43m                        \u001b[49m\u001b[43mc2pread\u001b[49m\u001b[43m,\u001b[49m\u001b[43m \u001b[49m\u001b[43mc2pwrite\u001b[49m\u001b[43m,\u001b[49m\n\u001b[0;32m    976\u001b[0m \u001b[43m                        \u001b[49m\u001b[43merrread\u001b[49m\u001b[43m,\u001b[49m\u001b[43m \u001b[49m\u001b[43merrwrite\u001b[49m\u001b[43m,\u001b[49m\n\u001b[0;32m    977\u001b[0m \u001b[43m                        \u001b[49m\u001b[43mrestore_signals\u001b[49m\u001b[43m,\u001b[49m\n\u001b[0;32m    978\u001b[0m \u001b[43m                        \u001b[49m\u001b[43mgid\u001b[49m\u001b[43m,\u001b[49m\u001b[43m \u001b[49m\u001b[43mgids\u001b[49m\u001b[43m,\u001b[49m\u001b[43m \u001b[49m\u001b[43muid\u001b[49m\u001b[43m,\u001b[49m\u001b[43m \u001b[49m\u001b[43mumask\u001b[49m\u001b[43m,\u001b[49m\n\u001b[0;32m    979\u001b[0m \u001b[43m                        \u001b[49m\u001b[43mstart_new_session\u001b[49m\u001b[43m)\u001b[49m\n\u001b[0;32m    980\u001b[0m \u001b[38;5;28;01mexcept\u001b[39;00m:\n\u001b[0;32m    981\u001b[0m     \u001b[38;5;66;03m# Cleanup if the child failed starting.\u001b[39;00m\n",
      "File \u001b[1;32mc:\\Users\\Admin\\miniconda3\\envs\\gemini_env\\lib\\subprocess.py:1456\u001b[0m, in \u001b[0;36mPopen._execute_child\u001b[1;34m(self, args, executable, preexec_fn, close_fds, pass_fds, cwd, env, startupinfo, creationflags, shell, p2cread, p2cwrite, c2pread, c2pwrite, errread, errwrite, unused_restore_signals, unused_gid, unused_gids, unused_uid, unused_umask, unused_start_new_session)\u001b[0m\n\u001b[0;32m   1455\u001b[0m \u001b[38;5;28;01mtry\u001b[39;00m:\n\u001b[1;32m-> 1456\u001b[0m     hp, ht, pid, tid \u001b[38;5;241m=\u001b[39m \u001b[43m_winapi\u001b[49m\u001b[38;5;241;43m.\u001b[39;49m\u001b[43mCreateProcess\u001b[49m\u001b[43m(\u001b[49m\u001b[43mexecutable\u001b[49m\u001b[43m,\u001b[49m\u001b[43m \u001b[49m\u001b[43margs\u001b[49m\u001b[43m,\u001b[49m\n\u001b[0;32m   1457\u001b[0m \u001b[43m                             \u001b[49m\u001b[38;5;66;43;03m# no special security\u001b[39;49;00m\n\u001b[0;32m   1458\u001b[0m \u001b[43m                             \u001b[49m\u001b[38;5;28;43;01mNone\u001b[39;49;00m\u001b[43m,\u001b[49m\u001b[43m \u001b[49m\u001b[38;5;28;43;01mNone\u001b[39;49;00m\u001b[43m,\u001b[49m\n\u001b[0;32m   1459\u001b[0m \u001b[43m                             \u001b[49m\u001b[38;5;28;43mint\u001b[39;49m\u001b[43m(\u001b[49m\u001b[38;5;129;43;01mnot\u001b[39;49;00m\u001b[43m \u001b[49m\u001b[43mclose_fds\u001b[49m\u001b[43m)\u001b[49m\u001b[43m,\u001b[49m\n\u001b[0;32m   1460\u001b[0m \u001b[43m                             \u001b[49m\u001b[43mcreationflags\u001b[49m\u001b[43m,\u001b[49m\n\u001b[0;32m   1461\u001b[0m \u001b[43m                             \u001b[49m\u001b[43menv\u001b[49m\u001b[43m,\u001b[49m\n\u001b[0;32m   1462\u001b[0m \u001b[43m                             \u001b[49m\u001b[43mcwd\u001b[49m\u001b[43m,\u001b[49m\n\u001b[0;32m   1463\u001b[0m \u001b[43m                             \u001b[49m\u001b[43mstartupinfo\u001b[49m\u001b[43m)\u001b[49m\n\u001b[0;32m   1464\u001b[0m \u001b[38;5;28;01mfinally\u001b[39;00m:\n\u001b[0;32m   1465\u001b[0m     \u001b[38;5;66;03m# Child is launched. Close the parent's copy of those pipe\u001b[39;00m\n\u001b[0;32m   1466\u001b[0m     \u001b[38;5;66;03m# handles that only the child should have open.  You need\u001b[39;00m\n\u001b[1;32m   (...)\u001b[0m\n\u001b[0;32m   1469\u001b[0m     \u001b[38;5;66;03m# pipe will not close when the child process exits and the\u001b[39;00m\n\u001b[0;32m   1470\u001b[0m     \u001b[38;5;66;03m# ReadFile will hang.\u001b[39;00m\n",
      "\u001b[1;31mFileNotFoundError\u001b[0m: [WinError 2] The system cannot find the file specified",
      "\nDuring handling of the above exception, another exception occurred:\n",
      "\u001b[1;31mPDFInfoNotInstalledError\u001b[0m                  Traceback (most recent call last)",
      "Cell \u001b[1;32mIn[14], line 1\u001b[0m\n\u001b[1;32m----> 1\u001b[0m \u001b[43mpdf_to_jpg_with_sizes\u001b[49m\u001b[43m(\u001b[49m\u001b[43mname_root\u001b[49m\u001b[43m \u001b[49m\u001b[38;5;241;43m+\u001b[39;49m\u001b[43m \u001b[49m\u001b[38;5;124;43m'\u001b[39;49m\u001b[38;5;124;43m.pdf\u001b[39;49m\u001b[38;5;124;43m'\u001b[39;49m\u001b[43m,\u001b[49m\u001b[43m \u001b[49m\u001b[43mname_root\u001b[49m\u001b[43m)\u001b[49m\n",
      "Cell \u001b[1;32mIn[12], line 6\u001b[0m, in \u001b[0;36mpdf_to_jpg_with_sizes\u001b[1;34m(pdf_path, output_folder, dpi)\u001b[0m\n\u001b[0;32m      3\u001b[0m     os\u001b[38;5;241m.\u001b[39mmakedirs(output_folder)\n\u001b[0;32m      5\u001b[0m \u001b[38;5;66;03m# Convert PDF to images\u001b[39;00m\n\u001b[1;32m----> 6\u001b[0m images \u001b[38;5;241m=\u001b[39m \u001b[43mconvert_from_path\u001b[49m\u001b[43m(\u001b[49m\u001b[43mpdf_path\u001b[49m\u001b[43m,\u001b[49m\u001b[43m \u001b[49m\u001b[43mdpi\u001b[49m\u001b[38;5;241;43m=\u001b[39;49m\u001b[43mdpi\u001b[49m\u001b[43m)\u001b[49m\n\u001b[0;32m      8\u001b[0m \u001b[38;5;66;03m# Get PDF page sizes using PyMuPDF\u001b[39;00m\n\u001b[0;32m      9\u001b[0m pdf_doc \u001b[38;5;241m=\u001b[39m fitz\u001b[38;5;241m.\u001b[39mopen(pdf_path)\n",
      "File \u001b[1;32mc:\\Users\\Admin\\miniconda3\\envs\\gemini_env\\lib\\site-packages\\pdf2image\\pdf2image.py:127\u001b[0m, in \u001b[0;36mconvert_from_path\u001b[1;34m(pdf_path, dpi, output_folder, first_page, last_page, fmt, jpegopt, thread_count, userpw, ownerpw, use_cropbox, strict, transparent, single_file, output_file, poppler_path, grayscale, size, paths_only, use_pdftocairo, timeout, hide_annotations)\u001b[0m\n\u001b[0;32m    124\u001b[0m \u001b[38;5;28;01mif\u001b[39;00m \u001b[38;5;28misinstance\u001b[39m(poppler_path, PurePath):\n\u001b[0;32m    125\u001b[0m     poppler_path \u001b[38;5;241m=\u001b[39m poppler_path\u001b[38;5;241m.\u001b[39mas_posix()\n\u001b[1;32m--> 127\u001b[0m page_count \u001b[38;5;241m=\u001b[39m \u001b[43mpdfinfo_from_path\u001b[49m\u001b[43m(\u001b[49m\n\u001b[0;32m    128\u001b[0m \u001b[43m    \u001b[49m\u001b[43mpdf_path\u001b[49m\u001b[43m,\u001b[49m\u001b[43m \u001b[49m\u001b[43muserpw\u001b[49m\u001b[43m,\u001b[49m\u001b[43m \u001b[49m\u001b[43mownerpw\u001b[49m\u001b[43m,\u001b[49m\u001b[43m \u001b[49m\u001b[43mpoppler_path\u001b[49m\u001b[38;5;241;43m=\u001b[39;49m\u001b[43mpoppler_path\u001b[49m\n\u001b[0;32m    129\u001b[0m \u001b[43m\u001b[49m\u001b[43m)\u001b[49m[\u001b[38;5;124m\"\u001b[39m\u001b[38;5;124mPages\u001b[39m\u001b[38;5;124m\"\u001b[39m]\n\u001b[0;32m    131\u001b[0m \u001b[38;5;66;03m# We start by getting the output format, the buffer processing function and if we need pdftocairo\u001b[39;00m\n\u001b[0;32m    132\u001b[0m parsed_fmt, final_extension, parse_buffer_func, use_pdfcairo_format \u001b[38;5;241m=\u001b[39m _parse_format(\n\u001b[0;32m    133\u001b[0m     fmt, grayscale\n\u001b[0;32m    134\u001b[0m )\n",
      "File \u001b[1;32mc:\\Users\\Admin\\miniconda3\\envs\\gemini_env\\lib\\site-packages\\pdf2image\\pdf2image.py:607\u001b[0m, in \u001b[0;36mpdfinfo_from_path\u001b[1;34m(pdf_path, userpw, ownerpw, poppler_path, rawdates, timeout, first_page, last_page)\u001b[0m\n\u001b[0;32m    604\u001b[0m     \u001b[38;5;28;01mreturn\u001b[39;00m d\n\u001b[0;32m    606\u001b[0m \u001b[38;5;28;01mexcept\u001b[39;00m \u001b[38;5;167;01mOSError\u001b[39;00m:\n\u001b[1;32m--> 607\u001b[0m     \u001b[38;5;28;01mraise\u001b[39;00m PDFInfoNotInstalledError(\n\u001b[0;32m    608\u001b[0m         \u001b[38;5;124m\"\u001b[39m\u001b[38;5;124mUnable to get page count. Is poppler installed and in PATH?\u001b[39m\u001b[38;5;124m\"\u001b[39m\n\u001b[0;32m    609\u001b[0m     )\n\u001b[0;32m    610\u001b[0m \u001b[38;5;28;01mexcept\u001b[39;00m \u001b[38;5;167;01mValueError\u001b[39;00m:\n\u001b[0;32m    611\u001b[0m     \u001b[38;5;28;01mraise\u001b[39;00m PDFPageCountError(\n\u001b[0;32m    612\u001b[0m         \u001b[38;5;124mf\u001b[39m\u001b[38;5;124m\"\u001b[39m\u001b[38;5;124mUnable to get page count.\u001b[39m\u001b[38;5;130;01m\\n\u001b[39;00m\u001b[38;5;132;01m{\u001b[39;00merr\u001b[38;5;241m.\u001b[39mdecode(\u001b[38;5;124m'\u001b[39m\u001b[38;5;124mutf8\u001b[39m\u001b[38;5;124m'\u001b[39m,\u001b[38;5;250m \u001b[39m\u001b[38;5;124m'\u001b[39m\u001b[38;5;124mignore\u001b[39m\u001b[38;5;124m'\u001b[39m)\u001b[38;5;132;01m}\u001b[39;00m\u001b[38;5;124m\"\u001b[39m\n\u001b[0;32m    613\u001b[0m     )\n",
      "\u001b[1;31mPDFInfoNotInstalledError\u001b[0m: Unable to get page count. Is poppler installed and in PATH?"
     ]
    }
   ],
   "source": [
    "pdf_to_jpg_with_sizes(name_root + '.pdf', name_root)"
   ]
  },
  {
   "cell_type": "code",
   "execution_count": 15,
   "id": "d5c6474b",
   "metadata": {},
   "outputs": [],
   "source": [
    "PREDICTIONS_ROOT = './predictions'"
   ]
  },
  {
   "cell_type": "code",
   "execution_count": 16,
   "id": "dfb43a36",
   "metadata": {},
   "outputs": [],
   "source": [
    "with torch.no_grad():\n",
    "    predictions = best_model.predict(\n",
    "        source= './' + name_root,\n",
    "        conf=0.65,\n",
    "        iou=0.75,\n",
    "        stream=True\n",
    "    )"
   ]
  },
  {
   "cell_type": "code",
   "execution_count": 17,
   "id": "ae1841a2",
   "metadata": {},
   "outputs": [],
   "source": [
    "test_images = []\n",
    "\n",
    "for prediction in predictions:\n",
    "    if len(prediction.boxes.xyxy):\n",
    "        name = prediction.path.split(\"/\")[-1].split(\".\")[0]\n",
    "        boxes = prediction.boxes.xyxy.cpu().numpy()\n",
    "        scores = prediction.boxes.conf.cpu().numpy()\n",
    "        \n",
    "        test_images += [name]\n",
    "        label_path = os.path.join(PREDICTIONS_ROOT, name + \".txt\")\n",
    "        \n",
    "        with open(label_path, \"w+\") as f:\n",
    "            for score, box in zip(scores, boxes):\n",
    "                text = f\"{score:0.4f} {' '.join(box.astype(str))}\"\n",
    "                f.write(text)\n",
    "                f.write(\"\\n\")\n",
    "\n",
    "clear_output()"
   ]
  },
  {
   "cell_type": "code",
   "execution_count": 18,
   "id": "1cce1059",
   "metadata": {},
   "outputs": [
    {
     "name": "stdout",
     "output_type": "stream",
     "text": [
      "Saved: Math_notation\\images\\1.jpg\n",
      "Saved: Math_notation\\images\\2.jpg\n",
      "Saved: Math_notation\\images\\3.jpg\n",
      "Saved: Math_notation\\images\\4.jpg\n",
      "Saved: Math_notation\\images\\5.jpg\n",
      "Saved: Math_notation\\images\\6.jpg\n",
      "Saved: Math_notation\\images\\7.jpg\n",
      "Saved: Math_notation\\images\\8.jpg\n",
      "Saved: Math_notation\\images\\9.jpg\n",
      "Saved: Math_notation\\images\\10.jpg\n",
      "Saved: Math_notation\\images\\11.jpg\n",
      "PDF coordinates saved at: Math_notation\\pdf_coor.txt\n",
      "Index txt saved at: Math_notation\\index.txt\n"
     ]
    }
   ],
   "source": [
    "crop_and_normalize_all(name_root)"
   ]
  },
  {
   "cell_type": "code",
   "execution_count": null,
   "id": "b728ac32",
   "metadata": {},
   "outputs": [],
   "source": []
  }
 ],
 "metadata": {
  "kernelspec": {
   "display_name": "gemini_env",
   "language": "python",
   "name": "python3"
  },
  "language_info": {
   "codemirror_mode": {
    "name": "ipython",
    "version": 3
   },
   "file_extension": ".py",
   "mimetype": "text/x-python",
   "name": "python",
   "nbconvert_exporter": "python",
   "pygments_lexer": "ipython3",
   "version": "3.10.16"
  }
 },
 "nbformat": 4,
 "nbformat_minor": 5
}
