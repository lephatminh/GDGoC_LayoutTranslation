{
 "cells": [
  {
   "cell_type": "code",
   "execution_count": 7,
   "metadata": {},
   "outputs": [
    {
     "name": "stdout",
     "output_type": "stream",
     "text": [
      "Fonts used in the PDF:\n",
      "HelveticaNeueLT-Medium\n",
      "HelveticaNeueLT-Light\n"
     ]
    }
   ],
   "source": [
    "import fitz  # PyMuPDF\n",
    "\n",
    "doc = fitz.open(\"Test.pdf\")\n",
    "fonts = set()\n",
    "\n",
    "for page in doc:\n",
    "    blocks = page.get_text(\"dict\")[\"blocks\"]\n",
    "    for block in blocks:\n",
    "        for line in block.get(\"lines\", []):\n",
    "            for span in line.get(\"spans\", []):\n",
    "                fonts.add(span[\"font\"])\n",
    "\n",
    "print(\"Fonts used in the PDF:\")\n",
    "for f in fonts:\n",
    "    print(f)\n"
   ]
  },
  {
   "cell_type": "code",
   "execution_count": 8,
   "metadata": {},
   "outputs": [
    {
     "name": "stdout",
     "output_type": "stream",
     "text": [
      "Fonts found in the PDF (parsed JSON):\n",
      "Font Name: /CEWRGU+HelveticaNeueLT-Light, Size: 1, Color (RGBA): (0, 156, 222, 255)\n",
      "Font Name: /CEWRGU+HelveticaNeueLT-Medium, Size: 1, Color (RGBA): (0, 156, 222, 255)\n",
      "Font Name: /CEWRGU+HelveticaNeueLT-Light, Size: 1, Color (RGBA): (0, 0, 0, 255)\n",
      "Font Name: /CEWRGU+HelveticaNeueLT-Medium, Size: 1, Color (RGBA): (0, 0, 0, 255)\n"
     ]
    }
   ],
   "source": [
    "import json\n",
    "\n",
    "# Load your JSON file (parsed PDF structure)\n",
    "with open(\"0b0a470fc656213d6b8f2b89afce17e9c807b67ffab1f68a97584e15da472b3e.json\", \"r\", encoding=\"utf-8\") as f:\n",
    "    data = json.load(f)\n",
    "\n",
    "# Extract unique font information\n",
    "fonts = set()\n",
    "\n",
    "for cell in data.get(\"cells\", []):\n",
    "    font_info = cell.get(\"font\", {})\n",
    "    font_name = font_info.get(\"name\", \"Unknown\")\n",
    "    font_size = font_info.get(\"size\", \"Unknown\")\n",
    "    font_color = tuple(font_info.get(\"color\", []))\n",
    "    fonts.add((font_name, font_size, font_color))\n",
    "\n",
    "# Display all unique font entries\n",
    "print(\"Fonts found in the PDF (parsed JSON):\")\n",
    "for name, size, color in fonts:\n",
    "    print(f\"Font Name: {name}, Size: {size}, Color (RGBA): {color}\")\n"
   ]
  },
  {
   "cell_type": "code",
   "execution_count": 9,
   "metadata": {},
   "outputs": [
    {
     "name": "stdout",
     "output_type": "stream",
     "text": [
      "Fonts (including subset tags) used in the PDF:\n",
      "/CEWRGU+HelveticaNeueLT-Medium\n",
      "/CEWRGU+HelveticaNeueLT-Light\n"
     ]
    }
   ],
   "source": [
    "from PyPDF2 import PdfReader\n",
    "\n",
    "pdf_path = \"Test.pdf\"\n",
    "reader = PdfReader(pdf_path)\n",
    "\n",
    "fonts = set()\n",
    "\n",
    "for page_num, page in enumerate(reader.pages, start=1):\n",
    "    resources = page.get(\"/Resources\")\n",
    "    if resources and \"/Font\" in resources:\n",
    "        font_dict = resources[\"/Font\"]\n",
    "        for font_ref in font_dict.values():\n",
    "            font_obj = font_ref.get_object()\n",
    "            base_font = font_obj.get(\"/BaseFont\")\n",
    "            if base_font:\n",
    "                fonts.add(str(base_font))\n",
    "\n",
    "print(\"Fonts (including subset tags) used in the PDF:\")\n",
    "for font in fonts:\n",
    "    print(font)\n"
   ]
  },
  {
   "cell_type": "code",
   "execution_count": null,
   "metadata": {},
   "outputs": [],
   "source": []
  }
 ],
 "metadata": {
  "kernelspec": {
   "display_name": "python_3.12.3",
   "language": "python",
   "name": "python3"
  },
  "language_info": {
   "codemirror_mode": {
    "name": "ipython",
    "version": 3
   },
   "file_extension": ".py",
   "mimetype": "text/x-python",
   "name": "python",
   "nbconvert_exporter": "python",
   "pygments_lexer": "ipython3",
   "version": "3.12.3"
  }
 },
 "nbformat": 4,
 "nbformat_minor": 2
}
